{
 "cells": [
  {
   "cell_type": "markdown",
   "metadata": {},
   "source": [
    "## Classifying Consumer Complaints"
   ]
  },
  {
   "cell_type": "markdown",
   "metadata": {},
   "source": [
    "Name: Shiven Shashidhar; Andrew ID: sshashid"
   ]
  },
  {
   "cell_type": "code",
   "execution_count": 885,
   "metadata": {},
   "outputs": [
    {
     "data": {
      "text/plain": [
       "'\\n# Pulling data from API\\nimport pandas as pd\\nfrom sodapy import Socrata\\n\\nclient = Socrata(\"data.consumerfinance.gov\",\\n                 \"weEfAxPKegK9IvduaQRFsD3EY\",\\n                 username=\"shivens@cmu.edu\",\\n                 password=\"DSPM_hw_2019\")\\n\\n# First 2000 results, returned as JSON from API / converted to Python list of\\n# dictionaries by sodapy.\\nresults = client.get(\"s6ew-h6mp\", limit=2000)\\n\\n# Convert to pandas DataFrame\\ndf = pd.DataFrame.from_records(results)\\n'"
      ]
     },
     "execution_count": 885,
     "metadata": {},
     "output_type": "execute_result"
    }
   ],
   "source": [
    "'''\n",
    "# Pulling data from API\n",
    "import pandas as pd\n",
    "from sodapy import Socrata\n",
    "\n",
    "client = Socrata(\"data.consumerfinance.gov\",\n",
    "                 \"weEfAxPKegK9IvduaQRFsD3EY\",\n",
    "                 username=\"shivens@cmu.edu\",\n",
    "                 password=\"DSPM_hw_2019\")\n",
    "\n",
    "# First 2000 results, returned as JSON from API / converted to Python list of\n",
    "# dictionaries by sodapy.\n",
    "results = client.get(\"s6ew-h6mp\", limit=2000)\n",
    "\n",
    "# Convert to pandas DataFrame\n",
    "df = pd.DataFrame.from_records(results)\n",
    "'''"
   ]
  },
  {
   "cell_type": "code",
   "execution_count": 886,
   "metadata": {},
   "outputs": [
    {
     "name": "stderr",
     "output_type": "stream",
     "text": [
      "C:\\Users\\Shiven\\Anaconda3\\envs\\py36\\lib\\site-packages\\IPython\\core\\interactiveshell.py:3020: DtypeWarning: Columns (4,5,6,11,16) have mixed types. Specify dtype option on import or set low_memory=False.\n",
      "  interactivity=interactivity, compiler=compiler, result=result)\n"
     ]
    }
   ],
   "source": [
    "#loading data from CSV file\n",
    "import pandas as pd\n",
    "df = pd.read_csv('./Consumer_Complaints.csv', encoding='utf-8')"
   ]
  },
  {
   "cell_type": "code",
   "execution_count": 887,
   "metadata": {
    "scrolled": true
   },
   "outputs": [
    {
     "data": {
      "text/html": [
       "<div>\n",
       "<style scoped>\n",
       "    .dataframe tbody tr th:only-of-type {\n",
       "        vertical-align: middle;\n",
       "    }\n",
       "\n",
       "    .dataframe tbody tr th {\n",
       "        vertical-align: top;\n",
       "    }\n",
       "\n",
       "    .dataframe thead th {\n",
       "        text-align: right;\n",
       "    }\n",
       "</style>\n",
       "<table border=\"1\" class=\"dataframe\">\n",
       "  <thead>\n",
       "    <tr style=\"text-align: right;\">\n",
       "      <th></th>\n",
       "      <th>Date received</th>\n",
       "      <th>Product</th>\n",
       "      <th>Sub-product</th>\n",
       "      <th>Issue</th>\n",
       "      <th>Sub-issue</th>\n",
       "      <th>Consumer complaint narrative</th>\n",
       "      <th>Company public response</th>\n",
       "      <th>Company</th>\n",
       "      <th>State</th>\n",
       "      <th>ZIP code</th>\n",
       "      <th>Tags</th>\n",
       "      <th>Consumer consent provided?</th>\n",
       "      <th>Submitted via</th>\n",
       "      <th>Date sent to company</th>\n",
       "      <th>Company response to consumer</th>\n",
       "      <th>Timely response?</th>\n",
       "      <th>Consumer disputed?</th>\n",
       "      <th>Complaint ID</th>\n",
       "    </tr>\n",
       "  </thead>\n",
       "  <tbody>\n",
       "    <tr>\n",
       "      <th>0</th>\n",
       "      <td>02/14/2019</td>\n",
       "      <td>Vehicle loan or lease</td>\n",
       "      <td>Loan</td>\n",
       "      <td>Problem with a credit reporting company's inve...</td>\n",
       "      <td>Their investigation did not fix an error on yo...</td>\n",
       "      <td>NaN</td>\n",
       "      <td>NaN</td>\n",
       "      <td>ALLY FINANCIAL INC.</td>\n",
       "      <td>MA</td>\n",
       "      <td>019XX</td>\n",
       "      <td>NaN</td>\n",
       "      <td>NaN</td>\n",
       "      <td>Web</td>\n",
       "      <td>02/14/2019</td>\n",
       "      <td>In progress</td>\n",
       "      <td>Yes</td>\n",
       "      <td>NaN</td>\n",
       "      <td>3152152</td>\n",
       "    </tr>\n",
       "    <tr>\n",
       "      <th>1</th>\n",
       "      <td>02/14/2019</td>\n",
       "      <td>Debt collection</td>\n",
       "      <td>Medical debt</td>\n",
       "      <td>False statements or representation</td>\n",
       "      <td>Attempted to collect wrong amount</td>\n",
       "      <td>NaN</td>\n",
       "      <td>Company believes it acted appropriately as aut...</td>\n",
       "      <td>Capital Accounts, LLC</td>\n",
       "      <td>TX</td>\n",
       "      <td>761XX</td>\n",
       "      <td>NaN</td>\n",
       "      <td>NaN</td>\n",
       "      <td>Web</td>\n",
       "      <td>02/14/2019</td>\n",
       "      <td>Closed with explanation</td>\n",
       "      <td>Yes</td>\n",
       "      <td>NaN</td>\n",
       "      <td>3152563</td>\n",
       "    </tr>\n",
       "    <tr>\n",
       "      <th>2</th>\n",
       "      <td>02/14/2019</td>\n",
       "      <td>Checking or savings account</td>\n",
       "      <td>Savings account</td>\n",
       "      <td>Managing an account</td>\n",
       "      <td>Banking errors</td>\n",
       "      <td>NaN</td>\n",
       "      <td>NaN</td>\n",
       "      <td>ALLY FINANCIAL INC.</td>\n",
       "      <td>NJ</td>\n",
       "      <td>08701</td>\n",
       "      <td>NaN</td>\n",
       "      <td>NaN</td>\n",
       "      <td>Web</td>\n",
       "      <td>02/14/2019</td>\n",
       "      <td>In progress</td>\n",
       "      <td>Yes</td>\n",
       "      <td>NaN</td>\n",
       "      <td>3152500</td>\n",
       "    </tr>\n",
       "    <tr>\n",
       "      <th>3</th>\n",
       "      <td>02/14/2019</td>\n",
       "      <td>Debt collection</td>\n",
       "      <td>Medical debt</td>\n",
       "      <td>Communication tactics</td>\n",
       "      <td>Called before 8am or after 9pm</td>\n",
       "      <td>NaN</td>\n",
       "      <td>Company believes it acted appropriately as aut...</td>\n",
       "      <td>Dynamic Recovery Solutions, LLC</td>\n",
       "      <td>FL</td>\n",
       "      <td>34997</td>\n",
       "      <td>Servicemember</td>\n",
       "      <td>Consent not provided</td>\n",
       "      <td>Web</td>\n",
       "      <td>02/14/2019</td>\n",
       "      <td>Closed with non-monetary relief</td>\n",
       "      <td>Yes</td>\n",
       "      <td>NaN</td>\n",
       "      <td>3151906</td>\n",
       "    </tr>\n",
       "    <tr>\n",
       "      <th>4</th>\n",
       "      <td>02/14/2019</td>\n",
       "      <td>Debt collection</td>\n",
       "      <td>Other debt</td>\n",
       "      <td>Attempts to collect debt not owed</td>\n",
       "      <td>Debt was paid</td>\n",
       "      <td>NaN</td>\n",
       "      <td>NaN</td>\n",
       "      <td>Diversified Consultants, Inc.</td>\n",
       "      <td>TX</td>\n",
       "      <td>NaN</td>\n",
       "      <td>NaN</td>\n",
       "      <td>NaN</td>\n",
       "      <td>Web</td>\n",
       "      <td>02/14/2019</td>\n",
       "      <td>In progress</td>\n",
       "      <td>Yes</td>\n",
       "      <td>NaN</td>\n",
       "      <td>3152354</td>\n",
       "    </tr>\n",
       "  </tbody>\n",
       "</table>\n",
       "</div>"
      ],
      "text/plain": [
       "  Date received                      Product      Sub-product  \\\n",
       "0    02/14/2019        Vehicle loan or lease             Loan   \n",
       "1    02/14/2019              Debt collection     Medical debt   \n",
       "2    02/14/2019  Checking or savings account  Savings account   \n",
       "3    02/14/2019              Debt collection     Medical debt   \n",
       "4    02/14/2019              Debt collection       Other debt   \n",
       "\n",
       "                                               Issue  \\\n",
       "0  Problem with a credit reporting company's inve...   \n",
       "1                 False statements or representation   \n",
       "2                                Managing an account   \n",
       "3                              Communication tactics   \n",
       "4                  Attempts to collect debt not owed   \n",
       "\n",
       "                                           Sub-issue  \\\n",
       "0  Their investigation did not fix an error on yo...   \n",
       "1                  Attempted to collect wrong amount   \n",
       "2                                     Banking errors   \n",
       "3                     Called before 8am or after 9pm   \n",
       "4                                      Debt was paid   \n",
       "\n",
       "  Consumer complaint narrative  \\\n",
       "0                          NaN   \n",
       "1                          NaN   \n",
       "2                          NaN   \n",
       "3                          NaN   \n",
       "4                          NaN   \n",
       "\n",
       "                             Company public response  \\\n",
       "0                                                NaN   \n",
       "1  Company believes it acted appropriately as aut...   \n",
       "2                                                NaN   \n",
       "3  Company believes it acted appropriately as aut...   \n",
       "4                                                NaN   \n",
       "\n",
       "                           Company State ZIP code           Tags  \\\n",
       "0              ALLY FINANCIAL INC.    MA    019XX            NaN   \n",
       "1            Capital Accounts, LLC    TX    761XX            NaN   \n",
       "2              ALLY FINANCIAL INC.    NJ    08701            NaN   \n",
       "3  Dynamic Recovery Solutions, LLC    FL    34997  Servicemember   \n",
       "4    Diversified Consultants, Inc.    TX      NaN            NaN   \n",
       "\n",
       "  Consumer consent provided? Submitted via Date sent to company  \\\n",
       "0                        NaN           Web           02/14/2019   \n",
       "1                        NaN           Web           02/14/2019   \n",
       "2                        NaN           Web           02/14/2019   \n",
       "3       Consent not provided           Web           02/14/2019   \n",
       "4                        NaN           Web           02/14/2019   \n",
       "\n",
       "      Company response to consumer Timely response? Consumer disputed?  \\\n",
       "0                      In progress              Yes                NaN   \n",
       "1          Closed with explanation              Yes                NaN   \n",
       "2                      In progress              Yes                NaN   \n",
       "3  Closed with non-monetary relief              Yes                NaN   \n",
       "4                      In progress              Yes                NaN   \n",
       "\n",
       "   Complaint ID  \n",
       "0       3152152  \n",
       "1       3152563  \n",
       "2       3152500  \n",
       "3       3151906  \n",
       "4       3152354  "
      ]
     },
     "execution_count": 887,
     "metadata": {},
     "output_type": "execute_result"
    }
   ],
   "source": [
    "df.head()"
   ]
  },
  {
   "cell_type": "code",
   "execution_count": 888,
   "metadata": {},
   "outputs": [
    {
     "data": {
      "text/plain": [
       "True"
      ]
     },
     "execution_count": 888,
     "metadata": {},
     "output_type": "execute_result"
    }
   ],
   "source": [
    "df['Consumer complaint narrative'].isnull().any()"
   ]
  },
  {
   "cell_type": "code",
   "execution_count": 889,
   "metadata": {
    "scrolled": false
   },
   "outputs": [
    {
     "data": {
      "text/html": [
       "<div>\n",
       "<style scoped>\n",
       "    .dataframe tbody tr th:only-of-type {\n",
       "        vertical-align: middle;\n",
       "    }\n",
       "\n",
       "    .dataframe tbody tr th {\n",
       "        vertical-align: top;\n",
       "    }\n",
       "\n",
       "    .dataframe thead th {\n",
       "        text-align: right;\n",
       "    }\n",
       "</style>\n",
       "<table border=\"1\" class=\"dataframe\">\n",
       "  <thead>\n",
       "    <tr style=\"text-align: right;\">\n",
       "      <th></th>\n",
       "      <th>Date received</th>\n",
       "      <th>Product</th>\n",
       "      <th>Sub-product</th>\n",
       "      <th>Issue</th>\n",
       "      <th>Sub-issue</th>\n",
       "      <th>Consumer complaint narrative</th>\n",
       "      <th>Company public response</th>\n",
       "      <th>Company</th>\n",
       "      <th>State</th>\n",
       "      <th>ZIP code</th>\n",
       "      <th>Tags</th>\n",
       "      <th>Consumer consent provided?</th>\n",
       "      <th>Submitted via</th>\n",
       "      <th>Date sent to company</th>\n",
       "      <th>Company response to consumer</th>\n",
       "      <th>Timely response?</th>\n",
       "      <th>Consumer disputed?</th>\n",
       "      <th>Complaint ID</th>\n",
       "    </tr>\n",
       "  </thead>\n",
       "  <tbody>\n",
       "    <tr>\n",
       "      <th>0</th>\n",
       "      <td>02/14/2019</td>\n",
       "      <td>Vehicle loan or lease</td>\n",
       "      <td>Loan</td>\n",
       "      <td>Problem with a credit reporting company's inve...</td>\n",
       "      <td>Their investigation did not fix an error on yo...</td>\n",
       "      <td>NaN</td>\n",
       "      <td>NaN</td>\n",
       "      <td>ALLY FINANCIAL INC.</td>\n",
       "      <td>MA</td>\n",
       "      <td>019XX</td>\n",
       "      <td>NaN</td>\n",
       "      <td>NaN</td>\n",
       "      <td>Web</td>\n",
       "      <td>02/14/2019</td>\n",
       "      <td>In progress</td>\n",
       "      <td>Yes</td>\n",
       "      <td>NaN</td>\n",
       "      <td>3152152</td>\n",
       "    </tr>\n",
       "    <tr>\n",
       "      <th>1</th>\n",
       "      <td>02/14/2019</td>\n",
       "      <td>Debt collection</td>\n",
       "      <td>Medical debt</td>\n",
       "      <td>False statements or representation</td>\n",
       "      <td>Attempted to collect wrong amount</td>\n",
       "      <td>NaN</td>\n",
       "      <td>Company believes it acted appropriately as aut...</td>\n",
       "      <td>Capital Accounts, LLC</td>\n",
       "      <td>TX</td>\n",
       "      <td>761XX</td>\n",
       "      <td>NaN</td>\n",
       "      <td>NaN</td>\n",
       "      <td>Web</td>\n",
       "      <td>02/14/2019</td>\n",
       "      <td>Closed with explanation</td>\n",
       "      <td>Yes</td>\n",
       "      <td>NaN</td>\n",
       "      <td>3152563</td>\n",
       "    </tr>\n",
       "    <tr>\n",
       "      <th>2</th>\n",
       "      <td>02/14/2019</td>\n",
       "      <td>Checking or savings account</td>\n",
       "      <td>Savings account</td>\n",
       "      <td>Managing an account</td>\n",
       "      <td>Banking errors</td>\n",
       "      <td>NaN</td>\n",
       "      <td>NaN</td>\n",
       "      <td>ALLY FINANCIAL INC.</td>\n",
       "      <td>NJ</td>\n",
       "      <td>08701</td>\n",
       "      <td>NaN</td>\n",
       "      <td>NaN</td>\n",
       "      <td>Web</td>\n",
       "      <td>02/14/2019</td>\n",
       "      <td>In progress</td>\n",
       "      <td>Yes</td>\n",
       "      <td>NaN</td>\n",
       "      <td>3152500</td>\n",
       "    </tr>\n",
       "    <tr>\n",
       "      <th>3</th>\n",
       "      <td>02/14/2019</td>\n",
       "      <td>Debt collection</td>\n",
       "      <td>Medical debt</td>\n",
       "      <td>Communication tactics</td>\n",
       "      <td>Called before 8am or after 9pm</td>\n",
       "      <td>NaN</td>\n",
       "      <td>Company believes it acted appropriately as aut...</td>\n",
       "      <td>Dynamic Recovery Solutions, LLC</td>\n",
       "      <td>FL</td>\n",
       "      <td>34997</td>\n",
       "      <td>Servicemember</td>\n",
       "      <td>Consent not provided</td>\n",
       "      <td>Web</td>\n",
       "      <td>02/14/2019</td>\n",
       "      <td>Closed with non-monetary relief</td>\n",
       "      <td>Yes</td>\n",
       "      <td>NaN</td>\n",
       "      <td>3151906</td>\n",
       "    </tr>\n",
       "    <tr>\n",
       "      <th>4</th>\n",
       "      <td>02/14/2019</td>\n",
       "      <td>Debt collection</td>\n",
       "      <td>Other debt</td>\n",
       "      <td>Attempts to collect debt not owed</td>\n",
       "      <td>Debt was paid</td>\n",
       "      <td>NaN</td>\n",
       "      <td>NaN</td>\n",
       "      <td>Diversified Consultants, Inc.</td>\n",
       "      <td>TX</td>\n",
       "      <td>NaN</td>\n",
       "      <td>NaN</td>\n",
       "      <td>NaN</td>\n",
       "      <td>Web</td>\n",
       "      <td>02/14/2019</td>\n",
       "      <td>In progress</td>\n",
       "      <td>Yes</td>\n",
       "      <td>NaN</td>\n",
       "      <td>3152354</td>\n",
       "    </tr>\n",
       "  </tbody>\n",
       "</table>\n",
       "</div>"
      ],
      "text/plain": [
       "  Date received                      Product      Sub-product  \\\n",
       "0    02/14/2019        Vehicle loan or lease             Loan   \n",
       "1    02/14/2019              Debt collection     Medical debt   \n",
       "2    02/14/2019  Checking or savings account  Savings account   \n",
       "3    02/14/2019              Debt collection     Medical debt   \n",
       "4    02/14/2019              Debt collection       Other debt   \n",
       "\n",
       "                                               Issue  \\\n",
       "0  Problem with a credit reporting company's inve...   \n",
       "1                 False statements or representation   \n",
       "2                                Managing an account   \n",
       "3                              Communication tactics   \n",
       "4                  Attempts to collect debt not owed   \n",
       "\n",
       "                                           Sub-issue  \\\n",
       "0  Their investigation did not fix an error on yo...   \n",
       "1                  Attempted to collect wrong amount   \n",
       "2                                     Banking errors   \n",
       "3                     Called before 8am or after 9pm   \n",
       "4                                      Debt was paid   \n",
       "\n",
       "  Consumer complaint narrative  \\\n",
       "0                          NaN   \n",
       "1                          NaN   \n",
       "2                          NaN   \n",
       "3                          NaN   \n",
       "4                          NaN   \n",
       "\n",
       "                             Company public response  \\\n",
       "0                                                NaN   \n",
       "1  Company believes it acted appropriately as aut...   \n",
       "2                                                NaN   \n",
       "3  Company believes it acted appropriately as aut...   \n",
       "4                                                NaN   \n",
       "\n",
       "                           Company State ZIP code           Tags  \\\n",
       "0              ALLY FINANCIAL INC.    MA    019XX            NaN   \n",
       "1            Capital Accounts, LLC    TX    761XX            NaN   \n",
       "2              ALLY FINANCIAL INC.    NJ    08701            NaN   \n",
       "3  Dynamic Recovery Solutions, LLC    FL    34997  Servicemember   \n",
       "4    Diversified Consultants, Inc.    TX      NaN            NaN   \n",
       "\n",
       "  Consumer consent provided? Submitted via Date sent to company  \\\n",
       "0                        NaN           Web           02/14/2019   \n",
       "1                        NaN           Web           02/14/2019   \n",
       "2                        NaN           Web           02/14/2019   \n",
       "3       Consent not provided           Web           02/14/2019   \n",
       "4                        NaN           Web           02/14/2019   \n",
       "\n",
       "      Company response to consumer Timely response? Consumer disputed?  \\\n",
       "0                      In progress              Yes                NaN   \n",
       "1          Closed with explanation              Yes                NaN   \n",
       "2                      In progress              Yes                NaN   \n",
       "3  Closed with non-monetary relief              Yes                NaN   \n",
       "4                      In progress              Yes                NaN   \n",
       "\n",
       "   Complaint ID  \n",
       "0       3152152  \n",
       "1       3152563  \n",
       "2       3152500  \n",
       "3       3151906  \n",
       "4       3152354  "
      ]
     },
     "execution_count": 889,
     "metadata": {},
     "output_type": "execute_result"
    }
   ],
   "source": [
    "#Which rows have blank consumer complaint narrative?\n",
    "df[df['Consumer complaint narrative'].isnull()].head()"
   ]
  },
  {
   "cell_type": "code",
   "execution_count": 890,
   "metadata": {},
   "outputs": [],
   "source": [
    "df = df[~df['Consumer complaint narrative'].isnull()]"
   ]
  },
  {
   "cell_type": "code",
   "execution_count": 891,
   "metadata": {},
   "outputs": [
    {
     "data": {
      "text/plain": [
       "(366396, 18)"
      ]
     },
     "execution_count": 891,
     "metadata": {},
     "output_type": "execute_result"
    }
   ],
   "source": [
    "df.shape"
   ]
  },
  {
   "cell_type": "markdown",
   "metadata": {},
   "source": [
    "After dropping rows with blank values in Narrative column, we have 366396 rows remaining."
   ]
  },
  {
   "cell_type": "code",
   "execution_count": 892,
   "metadata": {},
   "outputs": [],
   "source": [
    "%matplotlib inline\n",
    "import matplotlib.pyplot as plt\n",
    "import numpy as np\n",
    "import seaborn as sns"
   ]
  },
  {
   "cell_type": "code",
   "execution_count": 893,
   "metadata": {},
   "outputs": [],
   "source": [
    "complaint_grouping = df.groupby(by=['Company'])"
   ]
  },
  {
   "cell_type": "code",
   "execution_count": 894,
   "metadata": {},
   "outputs": [],
   "source": [
    "# Building a frequency table with key as company Name and value as count of complaints\n",
    "from collections import Counter\n",
    "company_complaint_freq = Counter()\n",
    "for i in complaint_grouping.groups.items():\n",
    "    company_complaint_freq[i[0]] += len(i[1])"
   ]
  },
  {
   "cell_type": "code",
   "execution_count": 895,
   "metadata": {},
   "outputs": [],
   "source": [
    "company_names = list(company_complaint_freq.keys())\n",
    "complaint_freq = list(map(int, list(company_complaint_freq.values())))"
   ]
  },
  {
   "cell_type": "code",
   "execution_count": 896,
   "metadata": {},
   "outputs": [],
   "source": [
    "#sorting in descending order of frequency\n",
    "sort_freq_index = np.argsort(complaint_freq)[::-1]"
   ]
  },
  {
   "cell_type": "code",
   "execution_count": 897,
   "metadata": {},
   "outputs": [],
   "source": [
    "company_names = np.array(company_names)"
   ]
  },
  {
   "cell_type": "code",
   "execution_count": 898,
   "metadata": {
    "scrolled": true
   },
   "outputs": [],
   "source": [
    "company_names = company_names[sort_freq_index]"
   ]
  },
  {
   "cell_type": "code",
   "execution_count": 899,
   "metadata": {},
   "outputs": [],
   "source": [
    "complaint_freq = np.array(complaint_freq)"
   ]
  },
  {
   "cell_type": "code",
   "execution_count": 900,
   "metadata": {},
   "outputs": [],
   "source": [
    "complaint_freq = complaint_freq[sort_freq_index]"
   ]
  },
  {
   "cell_type": "code",
   "execution_count": 901,
   "metadata": {},
   "outputs": [
    {
     "data": {
      "text/plain": [
       "36408"
      ]
     },
     "execution_count": 901,
     "metadata": {},
     "output_type": "execute_result"
    }
   ],
   "source": [
    "# Sanity check - success\n",
    "company_complaint_freq['EQUIFAX, INC.']"
   ]
  },
  {
   "cell_type": "code",
   "execution_count": 902,
   "metadata": {},
   "outputs": [
    {
     "data": {
      "image/png": "[encoded data removed]",
      "text/plain": [
       "<Figure size 432x288 with 1 Axes>"
      ]
     },
     "metadata": {
      "needs_background": "light"
     },
     "output_type": "display_data"
    }
   ],
   "source": [
    "# lets plot the top 10 in descending order\n",
    "plt.bar(company_names[:10], complaint_freq[:10])\n",
    "plt.xticks(company_names[:10], rotation=90)\n",
    "plt.xlabel('Company')\n",
    "plt.ylabel('#Complaints')\n",
    "plt.show()"
   ]
  },
  {
   "cell_type": "markdown",
   "metadata": {},
   "source": [
    "From the above plot, we observe that the top 3 institutions with highest number of complaints are - Equifax, Experian Information Solutions Inc, and TransUnion. All these 3 institutions are primarily consumer credit reporting agencies. "
   ]
  },
  {
   "cell_type": "code",
   "execution_count": 903,
   "metadata": {},
   "outputs": [
    {
     "data": {
      "text/plain": [
       "Index(['Date received', 'Product', 'Sub-product', 'Issue', 'Sub-issue',\n",
       "       'Consumer complaint narrative', 'Company public response', 'Company',\n",
       "       'State', 'ZIP code', 'Tags', 'Consumer consent provided?',\n",
       "       'Submitted via', 'Date sent to company', 'Company response to consumer',\n",
       "       'Timely response?', 'Consumer disputed?', 'Complaint ID'],\n",
       "      dtype='object')"
      ]
     },
     "execution_count": 903,
     "metadata": {},
     "output_type": "execute_result"
    }
   ],
   "source": [
    "df.columns"
   ]
  },
  {
   "cell_type": "code",
   "execution_count": 904,
   "metadata": {
    "scrolled": true
   },
   "outputs": [
    {
     "data": {
      "text/plain": [
       "array(['Debt collection',\n",
       "       'Credit reporting, credit repair services, or other personal consumer reports',\n",
       "       'Credit card or prepaid card', 'Checking or savings account',\n",
       "       'Vehicle loan or lease',\n",
       "       'Payday loan, title loan, or personal loan', 'Mortgage',\n",
       "       'Student loan',\n",
       "       'Money transfer, virtual currency, or money service',\n",
       "       'Credit reporting', 'Credit card', 'Bank account or service',\n",
       "       'Payday loan', 'Consumer Loan', 'Money transfers', 'Prepaid card',\n",
       "       'Other financial service', 'Virtual currency'], dtype=object)"
      ]
     },
     "execution_count": 904,
     "metadata": {},
     "output_type": "execute_result"
    }
   ],
   "source": [
    "df['Product'].unique()"
   ]
  },
  {
   "cell_type": "code",
   "execution_count": 905,
   "metadata": {},
   "outputs": [
    {
     "data": {
      "text/plain": [
       "(18,)"
      ]
     },
     "execution_count": 905,
     "metadata": {},
     "output_type": "execute_result"
    }
   ],
   "source": [
    "df['Product'].unique().shape"
   ]
  },
  {
   "cell_type": "markdown",
   "metadata": {},
   "source": [
    "#### OBSERVATION\n",
    "Our next task is: to build a model using consumer complaint narrative to predict product type. From the metadata and technical documentation of the dataset, one may note that effective 24 April 2017, there are supposed to be 9 different Product options. But as we can see our dataset contains 18 different Product options. So let's clean!"
   ]
  },
  {
   "cell_type": "code",
   "execution_count": 906,
   "metadata": {},
   "outputs": [],
   "source": [
    "true_product_options = ['Checking or savings account',\n",
    "'Credit card or prepaid card',\n",
    "'Credit reporting, credit repair services, or other personal consumer reports',\n",
    "'Debt collection',\n",
    "'Money transfer, virtual currency, or money service',\n",
    "'Mortgage',\n",
    "'Payday loan, title loan, or personal loan',\n",
    "'Student loan',\n",
    "'Vehicle loan or lease']"
   ]
  },
  {
   "cell_type": "code",
   "execution_count": 907,
   "metadata": {},
   "outputs": [
    {
     "data": {
      "text/plain": [
       "['Checking or savings account',\n",
       " 'Credit card or prepaid card',\n",
       " 'Credit reporting, credit repair services, or other personal consumer reports',\n",
       " 'Debt collection',\n",
       " 'Money transfer, virtual currency, or money service',\n",
       " 'Mortgage',\n",
       " 'Payday loan, title loan, or personal loan',\n",
       " 'Student loan',\n",
       " 'Vehicle loan or lease']"
      ]
     },
     "execution_count": 907,
     "metadata": {},
     "output_type": "execute_result"
    }
   ],
   "source": [
    "true_product_options"
   ]
  },
  {
   "cell_type": "code",
   "execution_count": 908,
   "metadata": {},
   "outputs": [
    {
     "data": {
      "text/plain": [
       "array(['Debt settlement', 'Check cashing', 'Credit repair',\n",
       "       'Traveler’s/Cashier’s checks', 'Foreign currency exchange',\n",
       "       'Money order', 'Refund anticipation check'], dtype=object)"
      ]
     },
     "execution_count": 908,
     "metadata": {},
     "output_type": "execute_result"
    }
   ],
   "source": [
    "df[df['Product'] == 'Other financial service']['Sub-product'].unique()"
   ]
  },
  {
   "cell_type": "code",
   "execution_count": 909,
   "metadata": {
    "scrolled": true
   },
   "outputs": [
    {
     "data": {
      "text/plain": [
       "array(['Domestic (US) money transfer', 'International money transfer',\n",
       "       'Check cashing service', 'Mobile or digital wallet',\n",
       "       \"Traveler's check or cashier's check\", 'Virtual currency',\n",
       "       'Money order', 'Refund anticipation check',\n",
       "       'Foreign currency exchange', 'Debt settlement'], dtype=object)"
      ]
     },
     "execution_count": 909,
     "metadata": {},
     "output_type": "execute_result"
    }
   ],
   "source": [
    "df[df['Product'] == true_product_options[4]]['Sub-product'].unique()"
   ]
  },
  {
   "cell_type": "markdown",
   "metadata": {},
   "source": [
    "We can see that the Product 'Other financial service' is similar to the Product 'Money transfer,..'"
   ]
  },
  {
   "cell_type": "code",
   "execution_count": 910,
   "metadata": {},
   "outputs": [],
   "source": [
    "df.loc[df['Product'] == 'Credit card', 'Product'] = true_product_options[1]"
   ]
  },
  {
   "cell_type": "code",
   "execution_count": 911,
   "metadata": {},
   "outputs": [],
   "source": [
    "df.loc[df['Product'] == 'Credit reporting', 'Product'] = true_product_options[2]"
   ]
  },
  {
   "cell_type": "code",
   "execution_count": 912,
   "metadata": {},
   "outputs": [],
   "source": [
    "df.loc[df['Product'] == 'Bank account or service', 'Product'] = true_product_options[0]"
   ]
  },
  {
   "cell_type": "code",
   "execution_count": 913,
   "metadata": {},
   "outputs": [],
   "source": [
    "df.loc[df['Product'] == 'Payday loan', 'Product'] = true_product_options[-3]"
   ]
  },
  {
   "cell_type": "code",
   "execution_count": 914,
   "metadata": {},
   "outputs": [],
   "source": [
    "df.loc[df['Product'] == 'Consumer Loan', 'Product'] = true_product_options[-3]"
   ]
  },
  {
   "cell_type": "code",
   "execution_count": 915,
   "metadata": {},
   "outputs": [],
   "source": [
    "df.loc[df['Product'] == 'Money transfers', 'Product'] = true_product_options[4]"
   ]
  },
  {
   "cell_type": "code",
   "execution_count": 916,
   "metadata": {},
   "outputs": [],
   "source": [
    "df.loc[df['Product'] == 'Prepaid card', 'Product'] = true_product_options[1]"
   ]
  },
  {
   "cell_type": "code",
   "execution_count": 917,
   "metadata": {},
   "outputs": [],
   "source": [
    "df.loc[df['Product'] == 'Virtual currency', 'Product'] = true_product_options[4]"
   ]
  },
  {
   "cell_type": "code",
   "execution_count": 918,
   "metadata": {},
   "outputs": [],
   "source": [
    "df.loc[df['Product'] == 'Other financial service', 'Product'] = true_product_options[4]"
   ]
  },
  {
   "cell_type": "code",
   "execution_count": 919,
   "metadata": {},
   "outputs": [
    {
     "data": {
      "text/html": [
       "<div>\n",
       "<style scoped>\n",
       "    .dataframe tbody tr th:only-of-type {\n",
       "        vertical-align: middle;\n",
       "    }\n",
       "\n",
       "    .dataframe tbody tr th {\n",
       "        vertical-align: top;\n",
       "    }\n",
       "\n",
       "    .dataframe thead th {\n",
       "        text-align: right;\n",
       "    }\n",
       "</style>\n",
       "<table border=\"1\" class=\"dataframe\">\n",
       "  <thead>\n",
       "    <tr style=\"text-align: right;\">\n",
       "      <th></th>\n",
       "      <th>Date received</th>\n",
       "      <th>Product</th>\n",
       "      <th>Sub-product</th>\n",
       "      <th>Issue</th>\n",
       "      <th>Sub-issue</th>\n",
       "      <th>Consumer complaint narrative</th>\n",
       "      <th>Company public response</th>\n",
       "      <th>Company</th>\n",
       "      <th>State</th>\n",
       "      <th>ZIP code</th>\n",
       "      <th>Tags</th>\n",
       "      <th>Consumer consent provided?</th>\n",
       "      <th>Submitted via</th>\n",
       "      <th>Date sent to company</th>\n",
       "      <th>Company response to consumer</th>\n",
       "      <th>Timely response?</th>\n",
       "      <th>Consumer disputed?</th>\n",
       "      <th>Complaint ID</th>\n",
       "    </tr>\n",
       "  </thead>\n",
       "  <tbody>\n",
       "  </tbody>\n",
       "</table>\n",
       "</div>"
      ],
      "text/plain": [
       "Empty DataFrame\n",
       "Columns: [Date received, Product, Sub-product, Issue, Sub-issue, Consumer complaint narrative, Company public response, Company, State, ZIP code, Tags, Consumer consent provided?, Submitted via, Date sent to company, Company response to consumer, Timely response?, Consumer disputed?, Complaint ID]\n",
       "Index: []"
      ]
     },
     "execution_count": 919,
     "metadata": {},
     "output_type": "execute_result"
    }
   ],
   "source": [
    "# sanity check - success\n",
    "df[df['Product'] == 'Credit card']"
   ]
  },
  {
   "cell_type": "code",
   "execution_count": 920,
   "metadata": {},
   "outputs": [
    {
     "data": {
      "text/plain": [
       "\"Contacted around XXXX XX/XX/XXXX from Associated Credit Services . The person I spoke to was incredibly rude and condescending. He told me that if I did not pay my XXXX XXXX  balance in full he would sue me. He also appeared to be looking at my credit report and told me if I did not pay my balance in full today he would get an account number from my report and attempt to run it on that. He said I had a XXXX XXXX card that had {$300.00} in available credit which is not my card. I'm simply an authorized user on it. When I told him that was my father 's card he told me to use that card today or he would call my father and inform him of my bad debts. I immediately hung up the phone. He then called me back on a blocked number and said if I do not pay in full today he would contact my place of employment and inform them of my bad debt. \\n\\nAccount is for {$1600.00} from XXXX XXXX XXXX. I offered to pay him in {$25.00} installments since I am in XXXX  and he said I need {$350.00} minimum today or we go to court.\""
      ]
     },
     "execution_count": 920,
     "metadata": {},
     "output_type": "execute_result"
    }
   ],
   "source": [
    "df['Consumer complaint narrative'].iloc[0]"
   ]
  },
  {
   "cell_type": "code",
   "execution_count": 921,
   "metadata": {},
   "outputs": [],
   "source": [
    "#removing punctuations, extra spaces etc\n",
    "import re\n",
    "import string\n",
    "\n",
    "def makeWordList(corpus_text):\n",
    "\n",
    "    for c in string.punctuation:\n",
    "        corpus_text = corpus_text.replace(c, \"\") \n",
    "    \n",
    "    text = re.sub(r'\\S*\\d\\S*', '', corpus_text) \n",
    "    text = re.sub(r'[^\\w\\s]', '', text)         \n",
    "    \n",
    "    text = text.lower().split()           \n",
    "    \n",
    "    li = []\n",
    "    for token in text:\n",
    "        li.append(token)\n",
    "\n",
    "    return \" \".join(li)"
   ]
  },
  {
   "cell_type": "code",
   "execution_count": 922,
   "metadata": {},
   "outputs": [],
   "source": [
    "corpus = []\n",
    "for i in df['Consumer complaint narrative'][:30000]:\n",
    "    corpus.append(makeWordList(i))  "
   ]
  },
  {
   "cell_type": "code",
   "execution_count": 923,
   "metadata": {
    "scrolled": true
   },
   "outputs": [
    {
     "data": {
      "text/plain": [
       "'contacted around xxxx xxxxxxxx from associated credit services the person i spoke to was incredibly rude and condescending he told me that if i did not pay my xxxx xxxx balance in full he would sue me he also appeared to be looking at my credit report and told me if i did not pay my balance in full today he would get an account number from my report and attempt to run it on that he said i had a xxxx xxxx card that had in available credit which is not my card im simply an authorized user on it when i told him that was my father s card he told me to use that card today or he would call my father and inform him of my bad debts i immediately hung up the phone he then called me back on a blocked number and said if i do not pay in full today he would contact my place of employment and inform them of my bad debt account is for from xxxx xxxx xxxx i offered to pay him in installments since i am in xxxx and he said i need minimum today or we go to court'"
      ]
     },
     "execution_count": 923,
     "metadata": {},
     "output_type": "execute_result"
    }
   ],
   "source": [
    "corpus[0]"
   ]
  },
  {
   "cell_type": "markdown",
   "metadata": {},
   "source": [
    "### Lemmatizer\n",
    "Reference: I have developed my lemmatizer based on the scikit-learn documentation (https://scikit-learn.org/stable/modules/feature_extraction.html), Section 4.2.3.10. Customizing the vectorizer classes - Tips and tricks\n"
   ]
  },
  {
   "cell_type": "code",
   "execution_count": 1,
   "metadata": {},
   "outputs": [
    {
     "data": {
      "text/plain": [
       "\"\\nimport spacy \\nnlp = spacy.load('en', disable=['ner', 'parser', 'tagger']) #disabling to optimize loading time\\n\\ndef word_tokenizer(doc):\\n    parsed_doc = nlp(doc)\\n    return([token.lemma_.lower() for token in parsed_doc if re.match('[a-zA-Z]+$', token.orth_) and token.lemma_ != '-PRON-'])\\n\""
      ]
     },
     "execution_count": 1,
     "metadata": {},
     "output_type": "execute_result"
    }
   ],
   "source": [
    "'''\n",
    "import spacy \n",
    "nlp = spacy.load('en', disable=['ner', 'parser', 'tagger']) #disabling to optimize loading time\n",
    "\n",
    "def word_tokenizer(doc):\n",
    "    parsed_doc = nlp(doc)\n",
    "    return([token.lemma_.lower() for token in parsed_doc if re.match('[a-zA-Z]+$', token.orth_) and token.lemma_ != '-PRON-'])\n",
    "'''   "
   ]
  },
  {
   "cell_type": "code",
   "execution_count": 925,
   "metadata": {},
   "outputs": [
    {
     "name": "stdout",
     "output_type": "stream",
     "text": [
      "{'contacted': 14, 'xxxx': 47, 'xxxxxxxx': 48, 'credit': 15, 'told': 46, 'did': 20, 'pay': 32, 'balance': 4, 'report': 38, 'account': 0, 'number': 30, 'said': 42, 'card': 8, 'phone': 35, 'called': 7, 'debt': 19, 'service': 44, 'reporting': 40, 'paid': 31, 'collection': 10, 'sent': 43, 'removed': 37, 'letter': 25, 'received': 36, 'date': 16, 'dispute': 21, 'address': 2, 'company': 11, 'consumer': 13, 'bureaus': 6, 'accounts': 1, 'information': 23, 'file': 22, 'days': 18, 'request': 41, 'money': 28, 'time': 45, 'check': 9, 'payments': 34, 'complaint': 12, 'mortgage': 29, 'reported': 39, 'late': 24, 'payment': 33, 'bank': 5, 'asked': 3, 'years': 49, 'day': 17, 'make': 27, 'loan': 26}\n"
     ]
    }
   ],
   "source": [
    "#Without lemmatizer\n",
    "from sklearn.feature_extraction.text import TfidfVectorizer\n",
    "vectorizer = TfidfVectorizer(min_df=50, stop_words=\"english\", max_df=0.8, max_features=50)\n",
    "X = vectorizer.fit_transform(corpus)\n",
    "print(vectorizer.vocabulary_) # a mapping of terms to feature indices"
   ]
  },
  {
   "cell_type": "code",
   "execution_count": 926,
   "metadata": {
    "scrolled": true
   },
   "outputs": [
    {
     "data": {
      "text/plain": [
       "'\\n# With lemmatizer\\nfrom sklearn.feature_extraction.text import TfidfVectorizer\\n#vectorizer = TfidfVectorizer(min_df=50, stop_words=\"english\", max_df=0.8, max_features=50)\\nvectorizer = TfidfVectorizer(min_df=50, stop_words=\"english\", max_df=0.8, max_features=50, tokenizer=word_tokenizer)\\nX = vectorizer.fit_transform(corpus)\\nprint(vectorizer.vocabulary_) # a mapping of terms to feature indices\\n'"
      ]
     },
     "execution_count": 926,
     "metadata": {},
     "output_type": "execute_result"
    }
   ],
   "source": [
    "'''\n",
    "# With lemmatizer\n",
    "from sklearn.feature_extraction.text import TfidfVectorizer\n",
    "#vectorizer = TfidfVectorizer(min_df=50, stop_words=\"english\", max_df=0.8, max_features=50)\n",
    "vectorizer = TfidfVectorizer(min_df=50, stop_words=\"english\", max_df=0.8, max_features=50, tokenizer=word_tokenizer)\n",
    "X = vectorizer.fit_transform(corpus)\n",
    "print(vectorizer.vocabulary_) # a mapping of terms to feature indices\n",
    "'''"
   ]
  },
  {
   "cell_type": "markdown",
   "metadata": {},
   "source": [
    "Adding the lemmatizer improved the quality of features captured and performance. If you have spacy and 'en' dictionary installed, the above two blocks of commented code may be  uncommented.  \n",
    "In addition to the usual stop words, due to privacy concerns, we see 'xxxx' and 'xxxxxxxx' turning up in our list frequently. Since this doesnt contribute much to our analysis, we can add this to our stop word list."
   ]
  },
  {
   "cell_type": "code",
   "execution_count": 927,
   "metadata": {},
   "outputs": [],
   "source": [
    "#modifying the stop word list\n",
    "from sklearn.feature_extraction import text\n",
    "my_stop_words = text.ENGLISH_STOP_WORDS.union(['xxxx', 'xxxxxxxx'])"
   ]
  },
  {
   "cell_type": "code",
   "execution_count": 928,
   "metadata": {},
   "outputs": [
    {
     "name": "stdout",
     "output_type": "stream",
     "text": [
      "{'contacted': 15, 'credit': 16, 'told': 58, 'did': 21, 'pay': 40, 'balance': 4, 'report': 48, 'account': 0, 'number': 37, 'said': 53, 'card': 8, 'phone': 43, 'called': 7, 'contact': 14, 'debt': 20, 'service': 55, 'reporting': 50, 'paid': 39, 'collection': 10, 'sent': 54, 'removed': 47, 'letter': 29, 'received': 45, 'date': 17, 'requested': 52, 'dispute': 22, 'original': 38, 'address': 2, 'company': 11, 'consumer': 13, 'bureaus': 6, 'remove': 46, 'accounts': 1, 'information': 26, 'file': 23, 'days': 19, 'request': 51, 'money': 32, 'time': 56, 'provide': 44, 'check': 9, 'payments': 42, 'complaint': 12, 'months': 34, 'home': 25, 'mortgage': 35, 'times': 57, 'reported': 49, 'late': 28, 'month': 33, 'payment': 41, 'bank': 5, 'asked': 3, 'years': 59, 'day': 18, 'help': 24, 'make': 31, 'loan': 30, 'new': 36, 'just': 27}\n"
     ]
    }
   ],
   "source": [
    "#Without lemmatizer\n",
    "vectorizer = TfidfVectorizer(min_df=50, stop_words=my_stop_words, max_df=0.8, max_features=60)\n",
    "X = vectorizer.fit_transform(corpus)\n",
    "print(vectorizer.vocabulary_) # a mapping of terms to feature indices"
   ]
  },
  {
   "cell_type": "code",
   "execution_count": 929,
   "metadata": {},
   "outputs": [],
   "source": [
    "# With lemmatizer\n",
    "#vectorizer = TfidfVectorizer(min_df=50, stop_words=my_stop_words, max_df=0.8, max_features=50, tokenizer=word_tokenizer)\n",
    "#X = vectorizer.fit_transform(corpus)\n",
    "#print(vectorizer.vocabulary_) # a mapping of terms to feature indices"
   ]
  },
  {
   "cell_type": "code",
   "execution_count": 930,
   "metadata": {},
   "outputs": [],
   "source": [
    "X = X.toarray()"
   ]
  },
  {
   "cell_type": "code",
   "execution_count": 931,
   "metadata": {},
   "outputs": [
    {
     "data": {
      "text/plain": [
       "array([0.14345533, 0.        , 0.        , 0.        , 0.24822593,\n",
       "       0.        , 0.        , 0.10016362, 0.45899828, 0.        ,\n",
       "       0.        , 0.        , 0.        , 0.        , 0.12875716,\n",
       "       0.11921474, 0.18525474, 0.        , 0.        , 0.        ,\n",
       "       0.10967056, 0.18795729, 0.        , 0.        , 0.        ,\n",
       "       0.        , 0.        , 0.        , 0.        , 0.        ,\n",
       "       0.        , 0.        , 0.        , 0.        , 0.        ,\n",
       "       0.        , 0.        , 0.22798706, 0.        , 0.        ,\n",
       "       0.45220722, 0.        , 0.        , 0.11630491, 0.        ,\n",
       "       0.        , 0.        , 0.        , 0.15829239, 0.        ,\n",
       "       0.        , 0.        , 0.        , 0.34977067, 0.        ,\n",
       "       0.        , 0.        , 0.        , 0.40894318, 0.        ])"
      ]
     },
     "execution_count": 931,
     "metadata": {},
     "output_type": "execute_result"
    }
   ],
   "source": [
    "X[0]"
   ]
  },
  {
   "cell_type": "markdown",
   "metadata": {},
   "source": [
    "We have obtained the tf-idf matrix for the narrative of all complaints in the dataset. "
   ]
  },
  {
   "cell_type": "code",
   "execution_count": 932,
   "metadata": {},
   "outputs": [
    {
     "data": {
      "text/plain": [
       "['account',\n",
       " 'accounts',\n",
       " 'address',\n",
       " 'asked',\n",
       " 'balance',\n",
       " 'bank',\n",
       " 'bureaus',\n",
       " 'called',\n",
       " 'card',\n",
       " 'check',\n",
       " 'collection',\n",
       " 'company',\n",
       " 'complaint',\n",
       " 'consumer',\n",
       " 'contact',\n",
       " 'contacted',\n",
       " 'credit',\n",
       " 'date',\n",
       " 'day',\n",
       " 'days',\n",
       " 'debt',\n",
       " 'did',\n",
       " 'dispute',\n",
       " 'file',\n",
       " 'help',\n",
       " 'home',\n",
       " 'information',\n",
       " 'just',\n",
       " 'late',\n",
       " 'letter',\n",
       " 'loan',\n",
       " 'make',\n",
       " 'money',\n",
       " 'month',\n",
       " 'months',\n",
       " 'mortgage',\n",
       " 'new',\n",
       " 'number',\n",
       " 'original',\n",
       " 'paid',\n",
       " 'pay',\n",
       " 'payment',\n",
       " 'payments',\n",
       " 'phone',\n",
       " 'provide',\n",
       " 'received',\n",
       " 'remove',\n",
       " 'removed',\n",
       " 'report',\n",
       " 'reported',\n",
       " 'reporting',\n",
       " 'request',\n",
       " 'requested',\n",
       " 'said',\n",
       " 'sent',\n",
       " 'service',\n",
       " 'time',\n",
       " 'times',\n",
       " 'told',\n",
       " 'years']"
      ]
     },
     "execution_count": 932,
     "metadata": {},
     "output_type": "execute_result"
    }
   ],
   "source": [
    "# In order to understand each of the feature names from the feature set\n",
    "vectorizer.get_feature_names()"
   ]
  },
  {
   "cell_type": "code",
   "execution_count": 933,
   "metadata": {},
   "outputs": [],
   "source": [
    "# Constructing our feature set\n",
    "feature_set = pd.DataFrame(X)"
   ]
  },
  {
   "cell_type": "code",
   "execution_count": 934,
   "metadata": {},
   "outputs": [],
   "source": [
    "feature_set.columns = vectorizer.get_feature_names()"
   ]
  },
  {
   "cell_type": "code",
   "execution_count": 935,
   "metadata": {},
   "outputs": [
    {
     "data": {
      "text/html": [
       "<div>\n",
       "<style scoped>\n",
       "    .dataframe tbody tr th:only-of-type {\n",
       "        vertical-align: middle;\n",
       "    }\n",
       "\n",
       "    .dataframe tbody tr th {\n",
       "        vertical-align: top;\n",
       "    }\n",
       "\n",
       "    .dataframe thead th {\n",
       "        text-align: right;\n",
       "    }\n",
       "</style>\n",
       "<table border=\"1\" class=\"dataframe\">\n",
       "  <thead>\n",
       "    <tr style=\"text-align: right;\">\n",
       "      <th></th>\n",
       "      <th>account</th>\n",
       "      <th>accounts</th>\n",
       "      <th>address</th>\n",
       "      <th>asked</th>\n",
       "      <th>balance</th>\n",
       "      <th>bank</th>\n",
       "      <th>bureaus</th>\n",
       "      <th>called</th>\n",
       "      <th>card</th>\n",
       "      <th>check</th>\n",
       "      <th>...</th>\n",
       "      <th>reporting</th>\n",
       "      <th>request</th>\n",
       "      <th>requested</th>\n",
       "      <th>said</th>\n",
       "      <th>sent</th>\n",
       "      <th>service</th>\n",
       "      <th>time</th>\n",
       "      <th>times</th>\n",
       "      <th>told</th>\n",
       "      <th>years</th>\n",
       "    </tr>\n",
       "  </thead>\n",
       "  <tbody>\n",
       "    <tr>\n",
       "      <th>0</th>\n",
       "      <td>0.143455</td>\n",
       "      <td>0.000000</td>\n",
       "      <td>0.000000</td>\n",
       "      <td>0.0</td>\n",
       "      <td>0.248226</td>\n",
       "      <td>0.0</td>\n",
       "      <td>0.000000</td>\n",
       "      <td>0.100164</td>\n",
       "      <td>0.458998</td>\n",
       "      <td>0.000000</td>\n",
       "      <td>...</td>\n",
       "      <td>0.000000</td>\n",
       "      <td>0.000000</td>\n",
       "      <td>0.000000</td>\n",
       "      <td>0.349771</td>\n",
       "      <td>0.000000</td>\n",
       "      <td>0.0000</td>\n",
       "      <td>0.000000</td>\n",
       "      <td>0.0</td>\n",
       "      <td>0.408943</td>\n",
       "      <td>0.0</td>\n",
       "    </tr>\n",
       "    <tr>\n",
       "      <th>1</th>\n",
       "      <td>0.135383</td>\n",
       "      <td>0.000000</td>\n",
       "      <td>0.000000</td>\n",
       "      <td>0.0</td>\n",
       "      <td>0.000000</td>\n",
       "      <td>0.0</td>\n",
       "      <td>0.000000</td>\n",
       "      <td>0.000000</td>\n",
       "      <td>0.000000</td>\n",
       "      <td>0.000000</td>\n",
       "      <td>...</td>\n",
       "      <td>0.195747</td>\n",
       "      <td>0.000000</td>\n",
       "      <td>0.000000</td>\n",
       "      <td>0.000000</td>\n",
       "      <td>0.190025</td>\n",
       "      <td>0.5007</td>\n",
       "      <td>0.000000</td>\n",
       "      <td>0.0</td>\n",
       "      <td>0.000000</td>\n",
       "      <td>0.0</td>\n",
       "    </tr>\n",
       "    <tr>\n",
       "      <th>2</th>\n",
       "      <td>0.176957</td>\n",
       "      <td>0.000000</td>\n",
       "      <td>0.164574</td>\n",
       "      <td>0.0</td>\n",
       "      <td>0.000000</td>\n",
       "      <td>0.0</td>\n",
       "      <td>0.000000</td>\n",
       "      <td>0.000000</td>\n",
       "      <td>0.000000</td>\n",
       "      <td>0.000000</td>\n",
       "      <td>...</td>\n",
       "      <td>0.000000</td>\n",
       "      <td>0.000000</td>\n",
       "      <td>0.159362</td>\n",
       "      <td>0.000000</td>\n",
       "      <td>0.000000</td>\n",
       "      <td>0.0000</td>\n",
       "      <td>0.000000</td>\n",
       "      <td>0.0</td>\n",
       "      <td>0.000000</td>\n",
       "      <td>0.0</td>\n",
       "    </tr>\n",
       "    <tr>\n",
       "      <th>3</th>\n",
       "      <td>0.266622</td>\n",
       "      <td>0.210352</td>\n",
       "      <td>0.000000</td>\n",
       "      <td>0.0</td>\n",
       "      <td>0.000000</td>\n",
       "      <td>0.0</td>\n",
       "      <td>0.239392</td>\n",
       "      <td>0.000000</td>\n",
       "      <td>0.000000</td>\n",
       "      <td>0.000000</td>\n",
       "      <td>...</td>\n",
       "      <td>0.192752</td>\n",
       "      <td>0.000000</td>\n",
       "      <td>0.000000</td>\n",
       "      <td>0.000000</td>\n",
       "      <td>0.000000</td>\n",
       "      <td>0.0000</td>\n",
       "      <td>0.000000</td>\n",
       "      <td>0.0</td>\n",
       "      <td>0.190013</td>\n",
       "      <td>0.0</td>\n",
       "    </tr>\n",
       "    <tr>\n",
       "      <th>4</th>\n",
       "      <td>0.000000</td>\n",
       "      <td>0.000000</td>\n",
       "      <td>0.021823</td>\n",
       "      <td>0.0</td>\n",
       "      <td>0.000000</td>\n",
       "      <td>0.0</td>\n",
       "      <td>0.000000</td>\n",
       "      <td>0.000000</td>\n",
       "      <td>0.000000</td>\n",
       "      <td>0.046985</td>\n",
       "      <td>...</td>\n",
       "      <td>0.220528</td>\n",
       "      <td>0.061659</td>\n",
       "      <td>0.063395</td>\n",
       "      <td>0.000000</td>\n",
       "      <td>0.000000</td>\n",
       "      <td>0.0000</td>\n",
       "      <td>0.016231</td>\n",
       "      <td>0.0</td>\n",
       "      <td>0.000000</td>\n",
       "      <td>0.0</td>\n",
       "    </tr>\n",
       "  </tbody>\n",
       "</table>\n",
       "<p>5 rows × 60 columns</p>\n",
       "</div>"
      ],
      "text/plain": [
       "    account  accounts   address  asked   balance  bank   bureaus    called  \\\n",
       "0  0.143455  0.000000  0.000000    0.0  0.248226   0.0  0.000000  0.100164   \n",
       "1  0.135383  0.000000  0.000000    0.0  0.000000   0.0  0.000000  0.000000   \n",
       "2  0.176957  0.000000  0.164574    0.0  0.000000   0.0  0.000000  0.000000   \n",
       "3  0.266622  0.210352  0.000000    0.0  0.000000   0.0  0.239392  0.000000   \n",
       "4  0.000000  0.000000  0.021823    0.0  0.000000   0.0  0.000000  0.000000   \n",
       "\n",
       "       card     check  ...    reporting   request  requested      said  \\\n",
       "0  0.458998  0.000000  ...     0.000000  0.000000   0.000000  0.349771   \n",
       "1  0.000000  0.000000  ...     0.195747  0.000000   0.000000  0.000000   \n",
       "2  0.000000  0.000000  ...     0.000000  0.000000   0.159362  0.000000   \n",
       "3  0.000000  0.000000  ...     0.192752  0.000000   0.000000  0.000000   \n",
       "4  0.000000  0.046985  ...     0.220528  0.061659   0.063395  0.000000   \n",
       "\n",
       "       sent  service      time  times      told  years  \n",
       "0  0.000000   0.0000  0.000000    0.0  0.408943    0.0  \n",
       "1  0.190025   0.5007  0.000000    0.0  0.000000    0.0  \n",
       "2  0.000000   0.0000  0.000000    0.0  0.000000    0.0  \n",
       "3  0.000000   0.0000  0.000000    0.0  0.190013    0.0  \n",
       "4  0.000000   0.0000  0.016231    0.0  0.000000    0.0  \n",
       "\n",
       "[5 rows x 60 columns]"
      ]
     },
     "execution_count": 935,
     "metadata": {},
     "output_type": "execute_result"
    }
   ],
   "source": [
    "feature_set.head()"
   ]
  },
  {
   "cell_type": "code",
   "execution_count": 936,
   "metadata": {},
   "outputs": [],
   "source": [
    "target = df['Product'][:30000].values #working on a subset of the data to avoid memory issues"
   ]
  },
  {
   "cell_type": "code",
   "execution_count": 937,
   "metadata": {
    "scrolled": true
   },
   "outputs": [
    {
     "data": {
      "text/plain": [
       "array(['Debt collection', 'Debt collection',\n",
       "       'Credit reporting, credit repair services, or other personal consumer reports',\n",
       "       ..., 'Mortgage', 'Credit card or prepaid card',\n",
       "       'Checking or savings account'], dtype=object)"
      ]
     },
     "execution_count": 937,
     "metadata": {},
     "output_type": "execute_result"
    }
   ],
   "source": [
    "target"
   ]
  },
  {
   "cell_type": "code",
   "execution_count": 938,
   "metadata": {},
   "outputs": [
    {
     "data": {
      "text/html": [
       "<div>\n",
       "<style scoped>\n",
       "    .dataframe tbody tr th:only-of-type {\n",
       "        vertical-align: middle;\n",
       "    }\n",
       "\n",
       "    .dataframe tbody tr th {\n",
       "        vertical-align: top;\n",
       "    }\n",
       "\n",
       "    .dataframe thead th {\n",
       "        text-align: right;\n",
       "    }\n",
       "</style>\n",
       "<table border=\"1\" class=\"dataframe\">\n",
       "  <thead>\n",
       "    <tr style=\"text-align: right;\">\n",
       "      <th></th>\n",
       "      <th>account</th>\n",
       "      <th>accounts</th>\n",
       "      <th>address</th>\n",
       "      <th>asked</th>\n",
       "      <th>balance</th>\n",
       "      <th>bank</th>\n",
       "      <th>bureaus</th>\n",
       "      <th>called</th>\n",
       "      <th>card</th>\n",
       "      <th>check</th>\n",
       "      <th>...</th>\n",
       "      <th>reporting</th>\n",
       "      <th>request</th>\n",
       "      <th>requested</th>\n",
       "      <th>said</th>\n",
       "      <th>sent</th>\n",
       "      <th>service</th>\n",
       "      <th>time</th>\n",
       "      <th>times</th>\n",
       "      <th>told</th>\n",
       "      <th>years</th>\n",
       "    </tr>\n",
       "  </thead>\n",
       "  <tbody>\n",
       "    <tr>\n",
       "      <th>0</th>\n",
       "      <td>0.143455</td>\n",
       "      <td>0.000000</td>\n",
       "      <td>0.000000</td>\n",
       "      <td>0.0</td>\n",
       "      <td>0.248226</td>\n",
       "      <td>0.0</td>\n",
       "      <td>0.000000</td>\n",
       "      <td>0.100164</td>\n",
       "      <td>0.458998</td>\n",
       "      <td>0.000000</td>\n",
       "      <td>...</td>\n",
       "      <td>0.000000</td>\n",
       "      <td>0.000000</td>\n",
       "      <td>0.000000</td>\n",
       "      <td>0.349771</td>\n",
       "      <td>0.000000</td>\n",
       "      <td>0.0000</td>\n",
       "      <td>0.000000</td>\n",
       "      <td>0.0</td>\n",
       "      <td>0.408943</td>\n",
       "      <td>0.0</td>\n",
       "    </tr>\n",
       "    <tr>\n",
       "      <th>1</th>\n",
       "      <td>0.135383</td>\n",
       "      <td>0.000000</td>\n",
       "      <td>0.000000</td>\n",
       "      <td>0.0</td>\n",
       "      <td>0.000000</td>\n",
       "      <td>0.0</td>\n",
       "      <td>0.000000</td>\n",
       "      <td>0.000000</td>\n",
       "      <td>0.000000</td>\n",
       "      <td>0.000000</td>\n",
       "      <td>...</td>\n",
       "      <td>0.195747</td>\n",
       "      <td>0.000000</td>\n",
       "      <td>0.000000</td>\n",
       "      <td>0.000000</td>\n",
       "      <td>0.190025</td>\n",
       "      <td>0.5007</td>\n",
       "      <td>0.000000</td>\n",
       "      <td>0.0</td>\n",
       "      <td>0.000000</td>\n",
       "      <td>0.0</td>\n",
       "    </tr>\n",
       "    <tr>\n",
       "      <th>2</th>\n",
       "      <td>0.176957</td>\n",
       "      <td>0.000000</td>\n",
       "      <td>0.164574</td>\n",
       "      <td>0.0</td>\n",
       "      <td>0.000000</td>\n",
       "      <td>0.0</td>\n",
       "      <td>0.000000</td>\n",
       "      <td>0.000000</td>\n",
       "      <td>0.000000</td>\n",
       "      <td>0.000000</td>\n",
       "      <td>...</td>\n",
       "      <td>0.000000</td>\n",
       "      <td>0.000000</td>\n",
       "      <td>0.159362</td>\n",
       "      <td>0.000000</td>\n",
       "      <td>0.000000</td>\n",
       "      <td>0.0000</td>\n",
       "      <td>0.000000</td>\n",
       "      <td>0.0</td>\n",
       "      <td>0.000000</td>\n",
       "      <td>0.0</td>\n",
       "    </tr>\n",
       "    <tr>\n",
       "      <th>3</th>\n",
       "      <td>0.266622</td>\n",
       "      <td>0.210352</td>\n",
       "      <td>0.000000</td>\n",
       "      <td>0.0</td>\n",
       "      <td>0.000000</td>\n",
       "      <td>0.0</td>\n",
       "      <td>0.239392</td>\n",
       "      <td>0.000000</td>\n",
       "      <td>0.000000</td>\n",
       "      <td>0.000000</td>\n",
       "      <td>...</td>\n",
       "      <td>0.192752</td>\n",
       "      <td>0.000000</td>\n",
       "      <td>0.000000</td>\n",
       "      <td>0.000000</td>\n",
       "      <td>0.000000</td>\n",
       "      <td>0.0000</td>\n",
       "      <td>0.000000</td>\n",
       "      <td>0.0</td>\n",
       "      <td>0.190013</td>\n",
       "      <td>0.0</td>\n",
       "    </tr>\n",
       "    <tr>\n",
       "      <th>4</th>\n",
       "      <td>0.000000</td>\n",
       "      <td>0.000000</td>\n",
       "      <td>0.021823</td>\n",
       "      <td>0.0</td>\n",
       "      <td>0.000000</td>\n",
       "      <td>0.0</td>\n",
       "      <td>0.000000</td>\n",
       "      <td>0.000000</td>\n",
       "      <td>0.000000</td>\n",
       "      <td>0.046985</td>\n",
       "      <td>...</td>\n",
       "      <td>0.220528</td>\n",
       "      <td>0.061659</td>\n",
       "      <td>0.063395</td>\n",
       "      <td>0.000000</td>\n",
       "      <td>0.000000</td>\n",
       "      <td>0.0000</td>\n",
       "      <td>0.016231</td>\n",
       "      <td>0.0</td>\n",
       "      <td>0.000000</td>\n",
       "      <td>0.0</td>\n",
       "    </tr>\n",
       "  </tbody>\n",
       "</table>\n",
       "<p>5 rows × 60 columns</p>\n",
       "</div>"
      ],
      "text/plain": [
       "    account  accounts   address  asked   balance  bank   bureaus    called  \\\n",
       "0  0.143455  0.000000  0.000000    0.0  0.248226   0.0  0.000000  0.100164   \n",
       "1  0.135383  0.000000  0.000000    0.0  0.000000   0.0  0.000000  0.000000   \n",
       "2  0.176957  0.000000  0.164574    0.0  0.000000   0.0  0.000000  0.000000   \n",
       "3  0.266622  0.210352  0.000000    0.0  0.000000   0.0  0.239392  0.000000   \n",
       "4  0.000000  0.000000  0.021823    0.0  0.000000   0.0  0.000000  0.000000   \n",
       "\n",
       "       card     check  ...    reporting   request  requested      said  \\\n",
       "0  0.458998  0.000000  ...     0.000000  0.000000   0.000000  0.349771   \n",
       "1  0.000000  0.000000  ...     0.195747  0.000000   0.000000  0.000000   \n",
       "2  0.000000  0.000000  ...     0.000000  0.000000   0.159362  0.000000   \n",
       "3  0.000000  0.000000  ...     0.192752  0.000000   0.000000  0.000000   \n",
       "4  0.000000  0.046985  ...     0.220528  0.061659   0.063395  0.000000   \n",
       "\n",
       "       sent  service      time  times      told  years  \n",
       "0  0.000000   0.0000  0.000000    0.0  0.408943    0.0  \n",
       "1  0.190025   0.5007  0.000000    0.0  0.000000    0.0  \n",
       "2  0.000000   0.0000  0.000000    0.0  0.000000    0.0  \n",
       "3  0.000000   0.0000  0.000000    0.0  0.190013    0.0  \n",
       "4  0.000000   0.0000  0.016231    0.0  0.000000    0.0  \n",
       "\n",
       "[5 rows x 60 columns]"
      ]
     },
     "execution_count": 938,
     "metadata": {},
     "output_type": "execute_result"
    }
   ],
   "source": [
    "feature_set.head()"
   ]
  },
  {
   "cell_type": "markdown",
   "metadata": {},
   "source": [
    "### Model Building  \n",
    "For the given learning task, I have used 4 different classification techniques - Naive Bayes, Multinomial Naive Bayes, Logistic Regression and Linear Support Vector Classifier. Their accuracy is calculated and the corresponding confusion matrix has been displayed. I found that Logistic Regression and Linear SVC provided >70% accuracy for a sample of the data set."
   ]
  },
  {
   "cell_type": "markdown",
   "metadata": {},
   "source": [
    "#### Classifier For Product class"
   ]
  },
  {
   "cell_type": "code",
   "execution_count": 939,
   "metadata": {},
   "outputs": [],
   "source": [
    "from sklearn.model_selection import train_test_split\n",
    "X_train, X_test, y_train, y_test = train_test_split(feature_set, target, test_size = 0.3, random_state = 0)"
   ]
  },
  {
   "cell_type": "markdown",
   "metadata": {},
   "source": [
    "#### Gaussian Naive Bayes"
   ]
  },
  {
   "cell_type": "code",
   "execution_count": 940,
   "metadata": {},
   "outputs": [],
   "source": [
    "from sklearn.naive_bayes import GaussianNB\n",
    "from sklearn.metrics import accuracy_score\n",
    "from sklearn.metrics import roc_auc_score\n",
    "gnb = GaussianNB()\n",
    "model = gnb.fit(X_train, y_train)\n",
    "y_pred = model.predict(X_test)"
   ]
  },
  {
   "cell_type": "code",
   "execution_count": 941,
   "metadata": {},
   "outputs": [
    {
     "data": {
      "text/plain": [
       "0.5704444444444444"
      ]
     },
     "execution_count": 941,
     "metadata": {},
     "output_type": "execute_result"
    }
   ],
   "source": [
    "accuracy_score(y_test, y_pred)"
   ]
  },
  {
   "cell_type": "markdown",
   "metadata": {},
   "source": [
    "#### Logistic Regression"
   ]
  },
  {
   "cell_type": "code",
   "execution_count": 942,
   "metadata": {},
   "outputs": [
    {
     "name": "stderr",
     "output_type": "stream",
     "text": [
      "C:\\Users\\Shiven\\Anaconda3\\envs\\py36\\lib\\site-packages\\sklearn\\linear_model\\logistic.py:433: FutureWarning: Default solver will be changed to 'lbfgs' in 0.22. Specify a solver to silence this warning.\n",
      "  FutureWarning)\n",
      "C:\\Users\\Shiven\\Anaconda3\\envs\\py36\\lib\\site-packages\\sklearn\\linear_model\\logistic.py:460: FutureWarning: Default multi_class will be changed to 'auto' in 0.22. Specify the multi_class option to silence this warning.\n",
      "  \"this warning.\", FutureWarning)\n"
     ]
    },
    {
     "data": {
      "text/plain": [
       "LogisticRegression(C=1.0, class_weight=None, dual=False, fit_intercept=True,\n",
       "          intercept_scaling=1, max_iter=100, multi_class='warn',\n",
       "          n_jobs=None, penalty='l2', random_state=None, solver='warn',\n",
       "          tol=0.0001, verbose=0, warm_start=False)"
      ]
     },
     "execution_count": 942,
     "metadata": {},
     "output_type": "execute_result"
    }
   ],
   "source": [
    "from sklearn.linear_model import LogisticRegression\n",
    "\n",
    "logreg = LogisticRegression()\n",
    "\n",
    "#logreg.fit(feature_set, target)\n",
    "logreg.fit(X_train, y_train)"
   ]
  },
  {
   "cell_type": "code",
   "execution_count": 943,
   "metadata": {},
   "outputs": [],
   "source": [
    "#y_pred_logreg = logreg.predict(feature_set)\n",
    "y_pred_logreg = logreg.predict(X_test)"
   ]
  },
  {
   "cell_type": "code",
   "execution_count": 944,
   "metadata": {},
   "outputs": [
    {
     "name": "stdout",
     "output_type": "stream",
     "text": [
      "[[ 430   83   59   26   13    9    2    0    0]\n",
      " [  54  527  246   46    3    5    2    2    1]\n",
      " [  54  122 3606  229    2   63    2   11    4]\n",
      " [  28   52  539 1073    4   35    4   17    2]\n",
      " [  79   17   25   20   27    3    0    0    0]\n",
      " [  15   12   71   25    2  520   12   38    2]\n",
      " [   6   10   54   52    1   10   29   46    6]\n",
      " [   9    7   62   42    1   14    8  177    2]\n",
      " [  10   15   88   47    0   11    8   50   12]]\n"
     ]
    }
   ],
   "source": [
    "from sklearn.metrics import confusion_matrix\n",
    "\n",
    "#cnf_matrix = confusion_matrix(target, y_pred_logreg)\n",
    "cnf_matrix = confusion_matrix(y_test, y_pred_logreg, labels=true_product_options)\n",
    "\n",
    "print(cnf_matrix)"
   ]
  },
  {
   "cell_type": "code",
   "execution_count": 945,
   "metadata": {
    "scrolled": true
   },
   "outputs": [
    {
     "data": {
      "text/plain": [
       "<matplotlib.axes._subplots.AxesSubplot at 0x1cd6a0c7a20>"
      ]
     },
     "execution_count": 945,
     "metadata": {},
     "output_type": "execute_result"
    },
    {
     "data": {
      "image/png": "[encoded data removed]",
      "text/plain": [
       "<Figure size 1080x720 with 2 Axes>"
      ]
     },
     "metadata": {
      "needs_background": "light"
     },
     "output_type": "display_data"
    }
   ],
   "source": [
    "df_cm = pd.DataFrame(cnf_matrix, true_product_options,\n",
    "                  true_product_options)\n",
    "plt.figure(figsize = (15,10))\n",
    "sns.set(font_scale=1.4)#for label size\n",
    "sns.heatmap(df_cm, annot=True,annot_kws={\"size\": 16}, fmt='g')# font size"
   ]
  },
  {
   "cell_type": "code",
   "execution_count": 946,
   "metadata": {},
   "outputs": [
    {
     "data": {
      "text/plain": [
       "0.7112222222222222"
      ]
     },
     "execution_count": 946,
     "metadata": {},
     "output_type": "execute_result"
    }
   ],
   "source": [
    "#logreg.score(feature_set, target)\n",
    "logreg.score(X_test, y_test)"
   ]
  },
  {
   "cell_type": "markdown",
   "metadata": {},
   "source": [
    "#### Multinomial Naive Bayes"
   ]
  },
  {
   "cell_type": "code",
   "execution_count": 947,
   "metadata": {},
   "outputs": [],
   "source": [
    "from sklearn.naive_bayes import MultinomialNB\n"
   ]
  },
  {
   "cell_type": "code",
   "execution_count": 948,
   "metadata": {},
   "outputs": [],
   "source": [
    "modelMNB = MultinomialNB() "
   ]
  },
  {
   "cell_type": "code",
   "execution_count": 949,
   "metadata": {},
   "outputs": [],
   "source": [
    "#modelMNB.fit(feature_set, target)\n",
    "modelMNB.fit(X_train, y_train)\n",
    "y_pred_mnb = modelMNB.predict(X_test)"
   ]
  },
  {
   "cell_type": "code",
   "execution_count": 950,
   "metadata": {
    "scrolled": true
   },
   "outputs": [
    {
     "data": {
      "text/plain": [
       "0.6645555555555556"
      ]
     },
     "execution_count": 950,
     "metadata": {},
     "output_type": "execute_result"
    }
   ],
   "source": [
    "modelMNB.score(X_test, y_test)"
   ]
  },
  {
   "cell_type": "code",
   "execution_count": 951,
   "metadata": {},
   "outputs": [
    {
     "name": "stdout",
     "output_type": "stream",
     "text": [
      "[[ 430   83   59   26   13    9    2    0    0]\n",
      " [  54  527  246   46    3    5    2    2    1]\n",
      " [  54  122 3606  229    2   63    2   11    4]\n",
      " [  28   52  539 1073    4   35    4   17    2]\n",
      " [  79   17   25   20   27    3    0    0    0]\n",
      " [  15   12   71   25    2  520   12   38    2]\n",
      " [   6   10   54   52    1   10   29   46    6]\n",
      " [   9    7   62   42    1   14    8  177    2]\n",
      " [  10   15   88   47    0   11    8   50   12]]\n"
     ]
    }
   ],
   "source": [
    "#cnf_matrix = confusion_matrix(target, y_pred_logreg)\n",
    "cnf_matrix_mnb = confusion_matrix(y_test, y_pred_mnb, labels=true_product_options)\n",
    "\n",
    "print(cnf_matrix)"
   ]
  },
  {
   "cell_type": "code",
   "execution_count": 952,
   "metadata": {},
   "outputs": [
    {
     "data": {
      "text/plain": [
       "<matplotlib.axes._subplots.AxesSubplot at 0x1ce819d3d30>"
      ]
     },
     "execution_count": 952,
     "metadata": {},
     "output_type": "execute_result"
    },
    {
     "data": {
      "image/png": "[encoded data removed]",
      "text/plain": [
       "<Figure size 1080x720 with 2 Axes>"
      ]
     },
     "metadata": {},
     "output_type": "display_data"
    }
   ],
   "source": [
    "df_cm = pd.DataFrame(cnf_matrix_mnb, true_product_options,\n",
    "                  true_product_options)\n",
    "plt.figure(figsize = (15,10))\n",
    "sns.set(font_scale=1.4)#for label size\n",
    "sns.heatmap(df_cm, annot=True,annot_kws={\"size\": 16}, fmt='g')# font size"
   ]
  },
  {
   "cell_type": "markdown",
   "metadata": {},
   "source": [
    "#### Support Vector Classifier"
   ]
  },
  {
   "cell_type": "code",
   "execution_count": 953,
   "metadata": {},
   "outputs": [],
   "source": [
    "from sklearn.svm import LinearSVC\n",
    "clf = LinearSVC()\n",
    "clf.fit(X_train, y_train)\n",
    "y_pred_svc = clf.predict(X_test)"
   ]
  },
  {
   "cell_type": "code",
   "execution_count": 954,
   "metadata": {},
   "outputs": [
    {
     "data": {
      "text/plain": [
       "0.707"
      ]
     },
     "execution_count": 954,
     "metadata": {},
     "output_type": "execute_result"
    }
   ],
   "source": [
    "clf.score(X_test, y_test)"
   ]
  },
  {
   "cell_type": "code",
   "execution_count": 955,
   "metadata": {},
   "outputs": [
    {
     "name": "stdout",
     "output_type": "stream",
     "text": [
      "[[ 447   82   54   25    7    7    0    0    0]\n",
      " [  65  523  242   42    2    6    2    4    0]\n",
      " [  58  119 3598  226    2   71    1   17    1]\n",
      " [  30   48  546 1063    7   36    2   21    1]\n",
      " [  96   12   26   18   16    3    0    0    0]\n",
      " [  16    9   68   22    2  525    1   54    0]\n",
      " [   8    9   50   57    1   15    8   64    2]\n",
      " [  10    8   61   40    2   19    0  182    0]\n",
      " [  11   16   90   45    1   18    4   55    1]]\n"
     ]
    }
   ],
   "source": [
    "cnf_matrix_svm = confusion_matrix(y_test, y_pred_svc, labels=true_product_options)\n",
    "\n",
    "print(cnf_matrix_svm)"
   ]
  },
  {
   "cell_type": "code",
   "execution_count": 956,
   "metadata": {},
   "outputs": [
    {
     "data": {
      "text/plain": [
       "<matplotlib.axes._subplots.AxesSubplot at 0x1ce81a1b978>"
      ]
     },
     "execution_count": 956,
     "metadata": {},
     "output_type": "execute_result"
    },
    {
     "data": {
      "image/png": "[encoded data removed]",
      "text/plain": [
       "<Figure size 1080x720 with 2 Axes>"
      ]
     },
     "metadata": {},
     "output_type": "display_data"
    }
   ],
   "source": [
    "df_cm = pd.DataFrame(cnf_matrix_svm, true_product_options,\n",
    "                  true_product_options)\n",
    "plt.figure(figsize = (15,10))\n",
    "sns.set(font_scale=1.4)#for label size\n",
    "sns.heatmap(df_cm, annot=True,annot_kws={\"size\": 16}, fmt='g')# font size"
   ]
  },
  {
   "cell_type": "markdown",
   "metadata": {},
   "source": [
    "### For subproduct"
   ]
  },
  {
   "cell_type": "code",
   "execution_count": 957,
   "metadata": {},
   "outputs": [
    {
     "data": {
      "text/html": [
       "<div>\n",
       "<style scoped>\n",
       "    .dataframe tbody tr th:only-of-type {\n",
       "        vertical-align: middle;\n",
       "    }\n",
       "\n",
       "    .dataframe tbody tr th {\n",
       "        vertical-align: top;\n",
       "    }\n",
       "\n",
       "    .dataframe thead th {\n",
       "        text-align: right;\n",
       "    }\n",
       "</style>\n",
       "<table border=\"1\" class=\"dataframe\">\n",
       "  <thead>\n",
       "    <tr style=\"text-align: right;\">\n",
       "      <th></th>\n",
       "      <th>Date received</th>\n",
       "      <th>Product</th>\n",
       "      <th>Sub-product</th>\n",
       "      <th>Issue</th>\n",
       "      <th>Sub-issue</th>\n",
       "      <th>Consumer complaint narrative</th>\n",
       "      <th>Company public response</th>\n",
       "      <th>Company</th>\n",
       "      <th>State</th>\n",
       "      <th>ZIP code</th>\n",
       "      <th>Tags</th>\n",
       "      <th>Consumer consent provided?</th>\n",
       "      <th>Submitted via</th>\n",
       "      <th>Date sent to company</th>\n",
       "      <th>Company response to consumer</th>\n",
       "      <th>Timely response?</th>\n",
       "      <th>Consumer disputed?</th>\n",
       "      <th>Complaint ID</th>\n",
       "    </tr>\n",
       "  </thead>\n",
       "  <tbody>\n",
       "    <tr>\n",
       "      <th>803</th>\n",
       "      <td>02/06/2019</td>\n",
       "      <td>Debt collection</td>\n",
       "      <td>Other debt</td>\n",
       "      <td>Communication tactics</td>\n",
       "      <td>Used obscene, profane, or other abusive language</td>\n",
       "      <td>Contacted around XXXX XX/XX/XXXX from Associat...</td>\n",
       "      <td>Company believes it acted appropriately as aut...</td>\n",
       "      <td>Associated Credit Services, Inc.</td>\n",
       "      <td>GA</td>\n",
       "      <td>300XX</td>\n",
       "      <td>Servicemember</td>\n",
       "      <td>Consent provided</td>\n",
       "      <td>Web</td>\n",
       "      <td>02/06/2019</td>\n",
       "      <td>Closed with explanation</td>\n",
       "      <td>Yes</td>\n",
       "      <td>NaN</td>\n",
       "      <td>3144317</td>\n",
       "    </tr>\n",
       "    <tr>\n",
       "      <th>963</th>\n",
       "      <td>02/05/2019</td>\n",
       "      <td>Debt collection</td>\n",
       "      <td>Other debt</td>\n",
       "      <td>Written notification about debt</td>\n",
       "      <td>Didn't receive notice of right to dispute</td>\n",
       "      <td>Associate credit service is reporting a paid c...</td>\n",
       "      <td>Company believes it acted appropriately as aut...</td>\n",
       "      <td>Associated Credit Services, Inc.</td>\n",
       "      <td>NY</td>\n",
       "      <td>117XX</td>\n",
       "      <td>NaN</td>\n",
       "      <td>Consent provided</td>\n",
       "      <td>Web</td>\n",
       "      <td>02/05/2019</td>\n",
       "      <td>Closed with explanation</td>\n",
       "      <td>Yes</td>\n",
       "      <td>NaN</td>\n",
       "      <td>3142951</td>\n",
       "    </tr>\n",
       "    <tr>\n",
       "      <th>1160</th>\n",
       "      <td>02/05/2019</td>\n",
       "      <td>Credit reporting, credit repair services, or o...</td>\n",
       "      <td>Credit reporting</td>\n",
       "      <td>Problem with a credit reporting company's inve...</td>\n",
       "      <td>Their investigation did not fix an error on yo...</td>\n",
       "      <td>XXXX XXXX XXXX has placed an inaccurate entry ...</td>\n",
       "      <td>Company believes the complaint is the result o...</td>\n",
       "      <td>CCS Financial Services, Inc.</td>\n",
       "      <td>TX</td>\n",
       "      <td>NaN</td>\n",
       "      <td>NaN</td>\n",
       "      <td>Consent provided</td>\n",
       "      <td>Web</td>\n",
       "      <td>02/05/2019</td>\n",
       "      <td>Closed with explanation</td>\n",
       "      <td>Yes</td>\n",
       "      <td>NaN</td>\n",
       "      <td>3142990</td>\n",
       "    </tr>\n",
       "    <tr>\n",
       "      <th>1270</th>\n",
       "      <td>02/04/2019</td>\n",
       "      <td>Credit reporting, credit repair services, or o...</td>\n",
       "      <td>Credit reporting</td>\n",
       "      <td>Incorrect information on your report</td>\n",
       "      <td>Information belongs to someone else</td>\n",
       "      <td>XXXX XXXX XXXX XXXX XXXX XXXX XXXX XXXX XXXX X...</td>\n",
       "      <td>Company has responded to the consumer and the ...</td>\n",
       "      <td>HCFS Health Care Financial Services, Inc.</td>\n",
       "      <td>WI</td>\n",
       "      <td>531XX</td>\n",
       "      <td>Servicemember</td>\n",
       "      <td>Consent provided</td>\n",
       "      <td>Web</td>\n",
       "      <td>02/04/2019</td>\n",
       "      <td>Closed with explanation</td>\n",
       "      <td>Yes</td>\n",
       "      <td>NaN</td>\n",
       "      <td>3141959</td>\n",
       "    </tr>\n",
       "    <tr>\n",
       "      <th>1299</th>\n",
       "      <td>02/04/2019</td>\n",
       "      <td>Credit reporting, credit repair services, or o...</td>\n",
       "      <td>Credit reporting</td>\n",
       "      <td>Incorrect information on your report</td>\n",
       "      <td>Information belongs to someone else</td>\n",
       "      <td>(a)BlockExcept as otherwise provided in this s...</td>\n",
       "      <td>Company has responded to the consumer and the ...</td>\n",
       "      <td>TRANSUNION INTERMEDIATE HOLDINGS, INC.</td>\n",
       "      <td>FL</td>\n",
       "      <td>338XX</td>\n",
       "      <td>NaN</td>\n",
       "      <td>Consent provided</td>\n",
       "      <td>Web</td>\n",
       "      <td>02/04/2019</td>\n",
       "      <td>Closed with explanation</td>\n",
       "      <td>Yes</td>\n",
       "      <td>NaN</td>\n",
       "      <td>3142271</td>\n",
       "    </tr>\n",
       "  </tbody>\n",
       "</table>\n",
       "</div>"
      ],
      "text/plain": [
       "     Date received                                            Product  \\\n",
       "803     02/06/2019                                    Debt collection   \n",
       "963     02/05/2019                                    Debt collection   \n",
       "1160    02/05/2019  Credit reporting, credit repair services, or o...   \n",
       "1270    02/04/2019  Credit reporting, credit repair services, or o...   \n",
       "1299    02/04/2019  Credit reporting, credit repair services, or o...   \n",
       "\n",
       "           Sub-product                                              Issue  \\\n",
       "803         Other debt                              Communication tactics   \n",
       "963         Other debt                    Written notification about debt   \n",
       "1160  Credit reporting  Problem with a credit reporting company's inve...   \n",
       "1270  Credit reporting               Incorrect information on your report   \n",
       "1299  Credit reporting               Incorrect information on your report   \n",
       "\n",
       "                                              Sub-issue  \\\n",
       "803    Used obscene, profane, or other abusive language   \n",
       "963           Didn't receive notice of right to dispute   \n",
       "1160  Their investigation did not fix an error on yo...   \n",
       "1270                Information belongs to someone else   \n",
       "1299                Information belongs to someone else   \n",
       "\n",
       "                           Consumer complaint narrative  \\\n",
       "803   Contacted around XXXX XX/XX/XXXX from Associat...   \n",
       "963   Associate credit service is reporting a paid c...   \n",
       "1160  XXXX XXXX XXXX has placed an inaccurate entry ...   \n",
       "1270  XXXX XXXX XXXX XXXX XXXX XXXX XXXX XXXX XXXX X...   \n",
       "1299  (a)BlockExcept as otherwise provided in this s...   \n",
       "\n",
       "                                Company public response  \\\n",
       "803   Company believes it acted appropriately as aut...   \n",
       "963   Company believes it acted appropriately as aut...   \n",
       "1160  Company believes the complaint is the result o...   \n",
       "1270  Company has responded to the consumer and the ...   \n",
       "1299  Company has responded to the consumer and the ...   \n",
       "\n",
       "                                        Company State ZIP code           Tags  \\\n",
       "803            Associated Credit Services, Inc.    GA    300XX  Servicemember   \n",
       "963            Associated Credit Services, Inc.    NY    117XX            NaN   \n",
       "1160               CCS Financial Services, Inc.    TX      NaN            NaN   \n",
       "1270  HCFS Health Care Financial Services, Inc.    WI    531XX  Servicemember   \n",
       "1299     TRANSUNION INTERMEDIATE HOLDINGS, INC.    FL    338XX            NaN   \n",
       "\n",
       "     Consumer consent provided? Submitted via Date sent to company  \\\n",
       "803            Consent provided           Web           02/06/2019   \n",
       "963            Consent provided           Web           02/05/2019   \n",
       "1160           Consent provided           Web           02/05/2019   \n",
       "1270           Consent provided           Web           02/04/2019   \n",
       "1299           Consent provided           Web           02/04/2019   \n",
       "\n",
       "     Company response to consumer Timely response? Consumer disputed?  \\\n",
       "803       Closed with explanation              Yes                NaN   \n",
       "963       Closed with explanation              Yes                NaN   \n",
       "1160      Closed with explanation              Yes                NaN   \n",
       "1270      Closed with explanation              Yes                NaN   \n",
       "1299      Closed with explanation              Yes                NaN   \n",
       "\n",
       "      Complaint ID  \n",
       "803        3144317  \n",
       "963        3142951  \n",
       "1160       3142990  \n",
       "1270       3141959  \n",
       "1299       3142271  "
      ]
     },
     "execution_count": 957,
     "metadata": {},
     "output_type": "execute_result"
    }
   ],
   "source": [
    "df.head()"
   ]
  },
  {
   "cell_type": "code",
   "execution_count": 958,
   "metadata": {},
   "outputs": [],
   "source": [
    "target_2 = df['Sub-product'][:30000].values"
   ]
  },
  {
   "cell_type": "code",
   "execution_count": 959,
   "metadata": {},
   "outputs": [],
   "source": [
    "true_subproduct_options = df['Sub-product'].unique()"
   ]
  },
  {
   "cell_type": "code",
   "execution_count": 960,
   "metadata": {},
   "outputs": [],
   "source": [
    "from sklearn.model_selection import train_test_split\n",
    "X_train, X_test, y_train, y_test = train_test_split(feature_set, target_2, test_size = 0.3, random_state = 0)"
   ]
  },
  {
   "cell_type": "code",
   "execution_count": 961,
   "metadata": {},
   "outputs": [
    {
     "name": "stderr",
     "output_type": "stream",
     "text": [
      "C:\\Users\\Shiven\\Anaconda3\\envs\\py36\\lib\\site-packages\\sklearn\\linear_model\\logistic.py:433: FutureWarning: Default solver will be changed to 'lbfgs' in 0.22. Specify a solver to silence this warning.\n",
      "  FutureWarning)\n",
      "C:\\Users\\Shiven\\Anaconda3\\envs\\py36\\lib\\site-packages\\sklearn\\linear_model\\logistic.py:460: FutureWarning: Default multi_class will be changed to 'auto' in 0.22. Specify the multi_class option to silence this warning.\n",
      "  \"this warning.\", FutureWarning)\n"
     ]
    },
    {
     "data": {
      "text/plain": [
       "LogisticRegression(C=1.0, class_weight=None, dual=False, fit_intercept=True,\n",
       "          intercept_scaling=1, max_iter=100, multi_class='warn',\n",
       "          n_jobs=None, penalty='l2', random_state=None, solver='warn',\n",
       "          tol=0.0001, verbose=0, warm_start=False)"
      ]
     },
     "execution_count": 961,
     "metadata": {},
     "output_type": "execute_result"
    }
   ],
   "source": [
    "from sklearn.linear_model import LogisticRegression\n",
    "\n",
    "logreg = LogisticRegression()\n",
    "\n",
    "#logreg.fit(feature_set, target)\n",
    "logreg.fit(X_train, y_train)"
   ]
  },
  {
   "cell_type": "code",
   "execution_count": 962,
   "metadata": {},
   "outputs": [],
   "source": [
    "#y_pred_logreg = logreg.predict(feature_set)\n",
    "y_pred_logreg = logreg.predict(X_test)"
   ]
  },
  {
   "cell_type": "code",
   "execution_count": 963,
   "metadata": {},
   "outputs": [
    {
     "name": "stdout",
     "output_type": "stream",
     "text": [
      "[[ 139  269   12 ...    0    0    0]\n",
      " [  65 3741    4 ...    0    0    0]\n",
      " [  87  163    9 ...    0    0    0]\n",
      " ...\n",
      " [   0    0    0 ...    0    0    0]\n",
      " [   0    0    0 ...    0    0    0]\n",
      " [   0    0    0 ...    0    0    0]]\n"
     ]
    }
   ],
   "source": [
    "from sklearn.metrics import confusion_matrix\n",
    "\n",
    "#cnf_matrix = confusion_matrix(target, y_pred_logreg)\n",
    "cnf_matrix = confusion_matrix(y_test, y_pred_logreg, labels=true_subproduct_options)\n",
    "\n",
    "print(cnf_matrix)"
   ]
  },
  {
   "cell_type": "code",
   "execution_count": 964,
   "metadata": {},
   "outputs": [
    {
     "data": {
      "text/plain": [
       "0.5803333333333334"
      ]
     },
     "execution_count": 964,
     "metadata": {},
     "output_type": "execute_result"
    }
   ],
   "source": [
    "logreg.score(X_test, y_test)"
   ]
  },
  {
   "cell_type": "markdown",
   "metadata": {},
   "source": [
    "### For Issue:"
   ]
  },
  {
   "cell_type": "code",
   "execution_count": 965,
   "metadata": {},
   "outputs": [],
   "source": [
    "target_3 = df['Issue'][:30000].values"
   ]
  },
  {
   "cell_type": "code",
   "execution_count": 966,
   "metadata": {},
   "outputs": [],
   "source": [
    "issue_options = df['Issue'].unique()"
   ]
  },
  {
   "cell_type": "code",
   "execution_count": 967,
   "metadata": {},
   "outputs": [],
   "source": [
    "from sklearn.model_selection import train_test_split\n",
    "X_train, X_test, y_train, y_test = train_test_split(feature_set, target_3, test_size = 0.3, random_state = 0)"
   ]
  },
  {
   "cell_type": "code",
   "execution_count": 968,
   "metadata": {},
   "outputs": [
    {
     "name": "stderr",
     "output_type": "stream",
     "text": [
      "C:\\Users\\Shiven\\Anaconda3\\envs\\py36\\lib\\site-packages\\sklearn\\linear_model\\logistic.py:433: FutureWarning: Default solver will be changed to 'lbfgs' in 0.22. Specify a solver to silence this warning.\n",
      "  FutureWarning)\n",
      "C:\\Users\\Shiven\\Anaconda3\\envs\\py36\\lib\\site-packages\\sklearn\\linear_model\\logistic.py:460: FutureWarning: Default multi_class will be changed to 'auto' in 0.22. Specify the multi_class option to silence this warning.\n",
      "  \"this warning.\", FutureWarning)\n"
     ]
    },
    {
     "data": {
      "text/plain": [
       "LogisticRegression(C=1.0, class_weight=None, dual=False, fit_intercept=True,\n",
       "          intercept_scaling=1, max_iter=100, multi_class='warn',\n",
       "          n_jobs=None, penalty='l2', random_state=None, solver='warn',\n",
       "          tol=0.0001, verbose=0, warm_start=False)"
      ]
     },
     "execution_count": 968,
     "metadata": {},
     "output_type": "execute_result"
    }
   ],
   "source": [
    "from sklearn.linear_model import LogisticRegression\n",
    "\n",
    "logreg = LogisticRegression()\n",
    "\n",
    "#logreg.fit(feature_set, target)\n",
    "logreg.fit(X_train, y_train)"
   ]
  },
  {
   "cell_type": "code",
   "execution_count": 969,
   "metadata": {},
   "outputs": [],
   "source": [
    "#y_pred_logreg = logreg.predict(feature_set)\n",
    "y_pred_logreg = logreg.predict(X_test)"
   ]
  },
  {
   "cell_type": "code",
   "execution_count": 970,
   "metadata": {},
   "outputs": [
    {
     "name": "stdout",
     "output_type": "stream",
     "text": [
      "[[125   5   3 ...   0   0   0]\n",
      " [  2  11  37 ...   0   0   0]\n",
      " [  2   5 266 ...   0   0   0]\n",
      " ...\n",
      " [  0   0   0 ...   0   0   0]\n",
      " [  0   0   0 ...   0   0   0]\n",
      " [  0   0   0 ...   0   0   0]]\n"
     ]
    }
   ],
   "source": [
    "from sklearn.metrics import confusion_matrix\n",
    "\n",
    "#cnf_matrix = confusion_matrix(target, y_pred_logreg)\n",
    "cnf_matrix = confusion_matrix(y_test, y_pred_logreg, labels=issue_options)\n",
    "\n",
    "print(cnf_matrix)"
   ]
  },
  {
   "cell_type": "code",
   "execution_count": 971,
   "metadata": {},
   "outputs": [
    {
     "data": {
      "text/plain": [
       "0.4261111111111111"
      ]
     },
     "execution_count": 971,
     "metadata": {},
     "output_type": "execute_result"
    }
   ],
   "source": [
    "logreg.score(X_test, y_test)"
   ]
  },
  {
   "cell_type": "markdown",
   "metadata": {},
   "source": [
    "### For sub-issue"
   ]
  },
  {
   "cell_type": "code",
   "execution_count": 972,
   "metadata": {},
   "outputs": [],
   "source": [
    "target_4 = df['Sub-issue'][:30000].values"
   ]
  },
  {
   "cell_type": "code",
   "execution_count": 973,
   "metadata": {},
   "outputs": [],
   "source": [
    "sub_issue_options = df['Sub-issue'].unique()"
   ]
  },
  {
   "cell_type": "code",
   "execution_count": 974,
   "metadata": {},
   "outputs": [],
   "source": [
    "from sklearn.model_selection import train_test_split\n",
    "X_train, X_test, y_train, y_test = train_test_split(feature_set, target_3, test_size = 0.3, random_state = 0)"
   ]
  },
  {
   "cell_type": "code",
   "execution_count": 975,
   "metadata": {},
   "outputs": [
    {
     "name": "stderr",
     "output_type": "stream",
     "text": [
      "C:\\Users\\Shiven\\Anaconda3\\envs\\py36\\lib\\site-packages\\sklearn\\linear_model\\logistic.py:433: FutureWarning: Default solver will be changed to 'lbfgs' in 0.22. Specify a solver to silence this warning.\n",
      "  FutureWarning)\n",
      "C:\\Users\\Shiven\\Anaconda3\\envs\\py36\\lib\\site-packages\\sklearn\\linear_model\\logistic.py:460: FutureWarning: Default multi_class will be changed to 'auto' in 0.22. Specify the multi_class option to silence this warning.\n",
      "  \"this warning.\", FutureWarning)\n"
     ]
    },
    {
     "data": {
      "text/plain": [
       "LogisticRegression(C=1.0, class_weight=None, dual=False, fit_intercept=True,\n",
       "          intercept_scaling=1, max_iter=100, multi_class='warn',\n",
       "          n_jobs=None, penalty='l2', random_state=None, solver='warn',\n",
       "          tol=0.0001, verbose=0, warm_start=False)"
      ]
     },
     "execution_count": 975,
     "metadata": {},
     "output_type": "execute_result"
    }
   ],
   "source": [
    "from sklearn.linear_model import LogisticRegression\n",
    "\n",
    "logreg = LogisticRegression()\n",
    "\n",
    "#logreg.fit(feature_set, target)\n",
    "logreg.fit(X_train, y_train)"
   ]
  },
  {
   "cell_type": "code",
   "execution_count": 976,
   "metadata": {},
   "outputs": [],
   "source": [
    "#y_pred_logreg = logreg.predict(feature_set)\n",
    "y_pred_logreg = logreg.predict(X_test)"
   ]
  },
  {
   "cell_type": "code",
   "execution_count": 977,
   "metadata": {},
   "outputs": [
    {
     "name": "stdout",
     "output_type": "stream",
     "text": [
      "[[0 0 0 ... 0 0 0]\n",
      " [0 0 0 ... 0 0 0]\n",
      " [0 0 0 ... 0 0 0]\n",
      " ...\n",
      " [0 0 0 ... 0 0 0]\n",
      " [0 0 0 ... 0 0 0]\n",
      " [0 0 0 ... 0 0 0]]\n"
     ]
    }
   ],
   "source": [
    "from sklearn.metrics import confusion_matrix\n",
    "\n",
    "#cnf_matrix = confusion_matrix(target, y_pred_logreg)\n",
    "cnf_matrix = confusion_matrix(y_test, y_pred_logreg, labels=sub_issue_options)\n",
    "\n",
    "print(cnf_matrix)"
   ]
  },
  {
   "cell_type": "code",
   "execution_count": 978,
   "metadata": {},
   "outputs": [
    {
     "data": {
      "text/plain": [
       "0.4261111111111111"
      ]
     },
     "execution_count": 978,
     "metadata": {},
     "output_type": "execute_result"
    }
   ],
   "source": [
    "logreg.score(X_test, y_test)"
   ]
  }
 ],
 "metadata": {
  "kernelspec": {
   "display_name": "Python 3",
   "language": "python",
   "name": "python3"
  },
  "language_info": {
   "codemirror_mode": {
    "name": "ipython",
    "version": 3
   },
   "file_extension": ".py",
   "mimetype": "text/x-python",
   "name": "python",
   "nbconvert_exporter": "python",
   "pygments_lexer": "ipython3",
   "version": "3.7.1"
  }
 },
 "nbformat": 4,
 "nbformat_minor": 2
}
